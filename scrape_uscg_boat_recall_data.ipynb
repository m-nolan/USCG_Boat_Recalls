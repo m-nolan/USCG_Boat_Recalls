{
 "cells": [
  {
   "cell_type": "code",
   "execution_count": 14,
   "metadata": {},
   "outputs": [],
   "source": [
    "import pandas as pd\n",
    "import matplotlib.pyplot as plt\n",
    "from dateutil.parser import parser\n",
    "import numpy as np"
   ]
  },
  {
   "cell_type": "code",
   "execution_count": 2,
   "metadata": {},
   "outputs": [
    {
     "name": "stdout",
     "output_type": "stream",
     "text": [
      "      Number  MIC                  Company Name  \\\n",
      "0   21CG0025  PWV       PARKS MANUFACTURING LLC   \n",
      "1   23MF0011  CRC                CRESTLINER INC   \n",
      "2    150001T  BUJ          TRACKER MARINE GROUP   \n",
      "3    160010T  BUJ                TRACKER MARINE   \n",
      "4    170012T  BUJ                       TRACKER   \n",
      "5    180016S  BUJ                       TRACKER   \n",
      "6    140010T  NaN          KOHLER POWER SYSTEMS   \n",
      "7   22MF0424  FGE        COBALT BOATS LLC (DBS)   \n",
      "8   22MF0624  KLI          THE KL COMPANIES INC   \n",
      "9   23MF0006  LWC                    LOWE BOATS   \n",
      "10  23MF0007  LWC                    LOWE BOATS   \n",
      "11  22MF0642  999                       CUMMINS   \n",
      "12  22MF0643  999                       CUMMINS   \n",
      "13  22MF0111  LYG      SEA FOX BOAT COMPANY INC   \n",
      "14   170016T  HPS       AMERICAN HONDA MOTOR CO   \n",
      "15  20CG0034  VRH            RHINO ROTO MOLDING   \n",
      "16  22MF0454  111           DOMETIC (COMPONENT)   \n",
      "17   170008T  NaN                MERCURY MARINE   \n",
      "18  22MF0447  BUJ  WHITE RIVER MARINE GROUP LLC   \n",
      "19  20SD0002  HQZ               DOMETIC-SEASTAR   \n",
      "20  21MF0547  111           MERCURY - MOTOGUIDE   \n",
      "21   190003S  LBB                    LUND BOATS   \n",
      "22   190027T  LBB                    LUND BOATS   \n",
      "23   180005T  LBB             LUND BOAT COMPANY   \n",
      "24   190037T  NaN                MERCURY MARINE   \n",
      "\n",
      "                          Model Name                  Problem 1   Last Date  \n",
      "0                           1900 STL  FLOTATION TEST FOR PERSON  2023-01-06  \n",
      "1                            VARIOUS                        NaN  2023-01-05  \n",
      "2                        MAKO 18 LTS               HULL; CRACKS  2023-01-04  \n",
      "3                   MAKO 17; MAKO 19           ENGINE; GASOLINE  2023-01-04  \n",
      "4                       SBB18 RP200C          ELECTRICAL SYSTEM  2023-01-04  \n",
      "5                DEEP V GRIZZLY HELM                 ELECTRICAL  2023-01-04  \n",
      "6        5/7.5/10 EKD AND 4/6/8 EFKD             EXHAUST SYSTEM  2023-01-03  \n",
      "7                        R8 OUTBOARD                        NaN  2023-01-03  \n",
      "8                                NaN                        NaN  2023-01-03  \n",
      "9                            VARIOUS                        NaN  2023-01-03  \n",
      "10                           VARIOUS                        NaN  2023-01-03  \n",
      "11                               NaN                        NaN  2022-12-12  \n",
      "12                               NaN                        NaN  2022-12-12  \n",
      "13                  180 - 268 SERIES                        NaN  2022-04-12  \n",
      "14                  BF 115 TO BF 250                FUEL SYSTEM  2022-07-11  \n",
      "15           BEAVERTAIL FINAL ATTACK      MAX PERSONS IN POUNDS  2022-12-09  \n",
      "16                    STEERING CABLE                        NaN  2022-09-09  \n",
      "17  VERADO 200/300 AND HI-PERF. 400R           ENGINE; GASOLINE  2022-06-09  \n",
      "18                VARIOUS - SEE DOCS                        NaN  2022-09-08  \n",
      "19                    HYDRAULIC HOSE        DYNAMIC INSTABILITY  2022-03-08  \n",
      "20                               NaN                        NaN  2022-03-08  \n",
      "21                            SSV-16            LEVEL FLOTATION  2022-02-08  \n",
      "22             \"189 TYEE, 189 PRO-V\"               ENGINE MOUNT  2022-02-08  \n",
      "23       \"189 TYEE GL, 189 PRO-V GL\"        ENGINE INTERFERENCE  2022-02-08  \n",
      "24                 DESIGN 2 JOYSTICK        DYNAMIC INSTABILITY  2022-07-07  \n"
     ]
    }
   ],
   "source": [
    "# get first page of results\n",
    "page_idx = 0\n",
    "page_url = fr'https://uscgboating.org/content/recalls.php?pageNum_allRecalls={page_idx}&totalRows_allRecalls=1639'\n",
    "table_idx = 4\n",
    "header_row_idx = 0\n",
    "page_table = pd.read_html(page_url,header=header_row_idx)[table_idx]\n",
    "print(page_table)"
   ]
  },
  {
   "cell_type": "code",
   "execution_count": 3,
   "metadata": {},
   "outputs": [],
   "source": [
    "# great! now loop across all the pages and concatenate the dataframes.\n",
    "n_page = 66 # magic number, would be nice to know automatically\n",
    "table_idx = 4\n",
    "header_row_idx = 0\n",
    "boat_recall_df = pd.DataFrame()\n",
    "for page_idx in range(n_page):\n",
    "    page_url = fr'https://uscgboating.org/content/recalls.php?pageNum_allRecalls={page_idx}&totalRows_allRecalls=1639'\n",
    "    page_table = pd.read_html(page_url,header=header_row_idx)[table_idx]\n",
    "    boat_recall_df = pd.concat([boat_recall_df,page_table],axis=0,ignore_index=True)"
   ]
  },
  {
   "cell_type": "code",
   "execution_count": 4,
   "metadata": {},
   "outputs": [],
   "source": [
    "# let's wrap this up. Save the dataframe to a .csv file. Drop the index #, it's not needed.\n",
    "csv_file_name = r'./uscg_boat_recalls.csv'\n",
    "boat_recall_df.to_csv(csv_file_name,index=False)"
   ]
  },
  {
   "cell_type": "code",
   "execution_count": 43,
   "metadata": {},
   "outputs": [
    {
     "data": {
      "text/plain": [
       "(1639, 6)"
      ]
     },
     "execution_count": 43,
     "metadata": {},
     "output_type": "execute_result"
    }
   ],
   "source": [
    "# looks good! I don't trust the 1970-01-01 date entries, but there's a lot of good stuff in here."
   ]
  },
  {
   "cell_type": "code",
   "execution_count": null,
   "metadata": {},
   "outputs": [],
   "source": []
  }
 ],
 "metadata": {
  "kernelspec": {
   "display_name": "ecog_is2s",
   "language": "python",
   "name": "python3"
  },
  "language_info": {
   "codemirror_mode": {
    "name": "ipython",
    "version": 3
   },
   "file_extension": ".py",
   "mimetype": "text/x-python",
   "name": "python",
   "nbconvert_exporter": "python",
   "pygments_lexer": "ipython3",
   "version": "3.7.13"
  },
  "orig_nbformat": 4,
  "vscode": {
   "interpreter": {
    "hash": "45208243d4f5fa7f908a3bf1a91a2dca15e023eab9c77041930223995d81063b"
   }
  }
 },
 "nbformat": 4,
 "nbformat_minor": 2
}
