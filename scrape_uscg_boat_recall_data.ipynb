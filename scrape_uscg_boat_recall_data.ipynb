{
 "cells": [
  {
   "cell_type": "code",
   "execution_count": null,
   "metadata": {},
   "outputs": [],
   "source": [
    "import pandas as pd\n",
    "import matplotlib.pyplot as plt\n",
    "from dateutil.parser import parser\n",
    "import numpy as np"
   ]
  },
  {
   "cell_type": "code",
   "execution_count": null,
   "metadata": {},
   "outputs": [],
   "source": [
    "# get first page of results\n",
    "page_idx = 0\n",
    "page_url = fr'https://uscgboating.org/content/recalls.php?pageNum_allRecalls={page_idx}&totalRows_allRecalls=1639'\n",
    "table_idx = 4\n",
    "header_row_idx = 0\n",
    "page_table = pd.read_html(page_url,header=header_row_idx)[table_idx]\n",
    "print(page_table)"
   ]
  },
  {
   "cell_type": "code",
   "execution_count": null,
   "metadata": {},
   "outputs": [],
   "source": [
    "# great! now loop across all the pages and concatenate the dataframes.\n",
    "n_page = 66 # magic number, would be nice to know automatically\n",
    "table_idx = 4\n",
    "header_row_idx = 0\n",
    "boat_recall_df = pd.DataFrame()\n",
    "for page_idx in range(n_page):\n",
    "    page_url = fr'https://uscgboating.org/content/recalls.php?pageNum_allRecalls={page_idx}&totalRows_allRecalls=1639'\n",
    "    page_table = pd.read_html(page_url,header=header_row_idx)[table_idx]\n",
    "    boat_recall_df = pd.concat([boat_recall_df,page_table],axis=0,ignore_index=True)"
   ]
  },
  {
   "cell_type": "code",
   "execution_count": null,
   "metadata": {},
   "outputs": [],
   "source": [
    "# let's wrap this up. Save the dataframe to a .csv file. Drop the index #, it's not needed.\n",
    "csv_file_name = r'./uscg_boat_recalls.csv'\n",
    "boat_recall_df.to_csv(csv_file_name,index=False)"
   ]
  },
  {
   "cell_type": "code",
   "execution_count": null,
   "metadata": {},
   "outputs": [],
   "source": [
    "# looks good! I don't trust the 1970-01-01 date entries, but there's a lot of good stuff in here."
   ]
  }
 ],
 "metadata": {
  "kernelspec": {
   "display_name": "ecog_is2s",
   "language": "python",
   "name": "python3"
  },
  "language_info": {
   "codemirror_mode": {
    "name": "ipython",
    "version": 3
   },
   "file_extension": ".py",
   "mimetype": "text/x-python",
   "name": "python",
   "nbconvert_exporter": "python",
   "pygments_lexer": "ipython3",
   "version": "3.7.13 (default, Mar 28 2022, 08:03:21) [MSC v.1916 64 bit (AMD64)]"
  },
  "orig_nbformat": 4,
  "vscode": {
   "interpreter": {
    "hash": "45208243d4f5fa7f908a3bf1a91a2dca15e023eab9c77041930223995d81063b"
   }
  }
 },
 "nbformat": 4,
 "nbformat_minor": 2
}
